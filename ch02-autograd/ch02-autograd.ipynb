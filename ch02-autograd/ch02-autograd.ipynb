{
 "cells": [
  {
   "cell_type": "markdown",
   "metadata": {},
   "source": [
    "## ch02 自动求梯度\n"
   ]
  },
  {
   "cell_type": "code",
   "execution_count": 1,
   "metadata": {},
   "outputs": [],
   "source": [
    "import torch"
   ]
  },
  {
   "cell_type": "code",
   "execution_count": 3,
   "metadata": {},
   "outputs": [
    {
     "name": "stdout",
     "output_type": "stream",
     "text": [
      "tensor([[1., 1.],\n",
      "        [1., 1.]], requires_grad=True)\n",
      "None\n"
     ]
    }
   ],
   "source": [
    "# 创建一个2*2的tensor\n",
    "x=torch.ones(2,2,requires_grad=True)\n",
    "print(x)\n",
    "print(x.grad_fn)"
   ]
  },
  {
   "cell_type": "markdown",
   "metadata": {},
   "source": [
    "x.grad_fn, 如果该tensor是由某些运算得到的，就会返回一个与运算相关的对象，否则该值就是None"
   ]
  },
  {
   "cell_type": "code",
   "execution_count": 4,
   "metadata": {},
   "outputs": [
    {
     "name": "stdout",
     "output_type": "stream",
     "text": [
      "tensor([[3., 3.],\n",
      "        [3., 3.]], grad_fn=<AddBackward0>)\n",
      "<AddBackward0 object at 0x000002E9F791FBE0>\n"
     ]
    }
   ],
   "source": [
    "y=x+2\n",
    "print(y)\n",
    "print(y.grad_fn)"
   ]
  },
  {
   "cell_type": "markdown",
   "metadata": {},
   "source": [
    "直接创建的tensor，称为叶子结点，叶子结点对应的grad_fn为None"
   ]
  },
  {
   "cell_type": "code",
   "execution_count": 7,
   "metadata": {},
   "outputs": [
    {
     "name": "stdout",
     "output_type": "stream",
     "text": [
      "True\n",
      "False\n"
     ]
    }
   ],
   "source": [
    "print(x.is_leaf)\n",
    "print(y.is_leaf)"
   ]
  },
  {
   "cell_type": "markdown",
   "metadata": {},
   "source": [
    "### 梯度\n",
    "\n",
    "令 $y=x+2$,\n",
    "\n",
    "令$z=3y^2$ ，\n",
    "\n",
    "求取一个标量$o=z.mean()$，即$o=\\frac{1}{4}z$\n",
    "\n",
    "> 实际上是赋予了每个数据，$\\frac{1}{n}$的权重。其中n为数据总数。\n",
    "\n",
    "现在开始求取x的梯度(这里的梯度，和导数是一同个东西。（感觉）)\n",
    "\n",
    "当x的值为1，得到求导值$\\frac{dy}{dx}|_{x=1}=6$\n",
    "\n",
    "于是：\n",
    "\n",
    "$$\n",
    "\\frac{do}{dx}|_{x=1,1,1,1}=\\\\\n",
    "\\frac{do}{dz}*\\frac{dz}{dy}*\\frac{dy}{dx}|_{x=1,1,1,1}=\\\\\n",
    "\\frac{1}{4} * 6y * 1|_{x=1,1,1,1}=\\\\\n",
    "\\frac{3}{2} * (x+2)|_{x=1,1,1,1}=\\{4.5,4.5,4.5,4.5\\}\n",
    "$$\n",
    "\n",
    "Note:遵从链式求导法则。\n",
    "\n",
    "代码："
   ]
  },
  {
   "cell_type": "code",
   "execution_count": 8,
   "metadata": {},
   "outputs": [
    {
     "name": "stdout",
     "output_type": "stream",
     "text": [
      "tensor(27., grad_fn=<MeanBackward0>)\n"
     ]
    }
   ],
   "source": [
    "z=y*y*3\n",
    "\n",
    "# 求均值\n",
    "out=z.mean()\n",
    "print(out)"
   ]
  },
  {
   "cell_type": "code",
   "execution_count": 9,
   "metadata": {},
   "outputs": [
    {
     "name": "stdout",
     "output_type": "stream",
     "text": [
      "tensor([[4.5000, 4.5000],\n",
      "        [4.5000, 4.5000]])\n"
     ]
    }
   ],
   "source": [
    "# 求梯度\n",
    "\n",
    "# out是一个标量，所以不需要指定求导变量\n",
    "out.backward()\n",
    "\n",
    "# x.grad\n",
    "print(x.grad)"
   ]
  },
  {
   "cell_type": "markdown",
   "metadata": {},
   "source": [
    "### 求梯度，示例2"
   ]
  },
  {
   "cell_type": "code",
   "execution_count": 2,
   "metadata": {},
   "outputs": [
    {
     "name": "stdout",
     "output_type": "stream",
     "text": [
      "tensor([[ 2.,  8.],\n",
      "        [18., 32.]], grad_fn=<ViewBackward>)\n"
     ]
    }
   ],
   "source": [
    "x=torch.tensor([1.0,2.0,3.0,4.0],requires_grad=True)\n",
    "\n",
    "y=2*x*x\n",
    "z=y.view(2,2)\n",
    "print(z)"
   ]
  },
  {
   "cell_type": "code",
   "execution_count": 3,
   "metadata": {},
   "outputs": [
    {
     "name": "stdout",
     "output_type": "stream",
     "text": [
      "tensor(15., grad_fn=<MeanBackward0>)\n"
     ]
    }
   ],
   "source": [
    "out=z.mean()\n",
    "print(out)"
   ]
  },
  {
   "cell_type": "code",
   "execution_count": 4,
   "metadata": {},
   "outputs": [
    {
     "name": "stdout",
     "output_type": "stream",
     "text": [
      "tensor([1., 2., 3., 4.])\n"
     ]
    }
   ],
   "source": [
    "out.backward()\n",
    "print(x.grad)"
   ]
  },
  {
   "cell_type": "markdown",
   "metadata": {},
   "source": [
    "### 求梯度，示例3"
   ]
  },
  {
   "cell_type": "code",
   "execution_count": 5,
   "metadata": {},
   "outputs": [
    {
     "name": "stdout",
     "output_type": "stream",
     "text": [
      "tensor([[2., 4.],\n",
      "        [6., 8.]], grad_fn=<ViewBackward>)\n"
     ]
    }
   ],
   "source": [
    "x=torch.tensor([1.0,2.0,3.0,4.0],requires_grad=True)\n",
    "\n",
    "y=2*x\n",
    "z=y.view(2,2)\n",
    "print(z)"
   ]
  },
  {
   "cell_type": "code",
   "execution_count": 6,
   "metadata": {},
   "outputs": [
    {
     "name": "stdout",
     "output_type": "stream",
     "text": [
      "tensor([2.0000, 0.2000, 0.0200, 0.0020])\n"
     ]
    }
   ],
   "source": [
    "# z不是一个标量，\n",
    "# 所以需要传入一个和z同型的权重向量，\n",
    "# 进行加权，来得到一个标量\n",
    "v = torch.tensor([[1.0, 0.1], [0.01, 0.001]], dtype=torch.float)\n",
    "\n",
    "# backward()\n",
    "z.backward(v)\n",
    "print(x.grad)"
   ]
  },
  {
   "cell_type": "markdown",
   "metadata": {},
   "source": [
    "可见，x与x_grad是同形的张量。"
   ]
  },
  {
   "cell_type": "markdown",
   "metadata": {},
   "source": [
    "### 中断梯度\n",
    "\n",
    "使用语句：\n",
    "\n",
    "```python\n",
    "y1=x**2\n",
    "with torch.no_grad():\n",
    "    y2=x**3\n",
    "\n",
    "y3=y1+y2\n",
    "\n",
    "```\n",
    "> 上述代码中，求y3对于x的梯度，实际上是求y1对于x的梯度，\n",
    "\n",
    "y2会被直接忽略。\n",
    "\n",
    "\n",
    "示例："
   ]
  },
  {
   "cell_type": "code",
   "execution_count": 11,
   "metadata": {},
   "outputs": [
    {
     "name": "stdout",
     "output_type": "stream",
     "text": [
      "True\n",
      "tensor(1., grad_fn=<PowBackward0>) True\n",
      "tensor(1.) False\n",
      "tensor(2., grad_fn=<AddBackward0>) True\n"
     ]
    }
   ],
   "source": [
    "x=torch.tensor(1.0,requires_grad=True)\n",
    "y1=x**2\n",
    "with torch.no_grad():\n",
    "    y2=x**3\n",
    "y3=y1+y2\n",
    "\n",
    "print(x.requires_grad)\n",
    "print(y1,y1.requires_grad) # true\n",
    "print(y2,y2.requires_grad) # false \n",
    "print(y3,y3.requires_grad) # true"
   ]
  },
  {
   "cell_type": "code",
   "execution_count": 12,
   "metadata": {},
   "outputs": [
    {
     "name": "stdout",
     "output_type": "stream",
     "text": [
      "tensor(2.)\n"
     ]
    }
   ],
   "source": [
    "y3.backward()\n",
    "print(x.grad)"
   ]
  },
  {
   "cell_type": "markdown",
   "metadata": {},
   "source": [
    "**梯度清零**\n",
    "\n",
    "grad在方向传播的过程中，是累加的。\n",
    "所以在反向传播之前，要将之前的梯度清零。\n",
    "\n",
    "> 带_的参数，等价于inplace=true，即直接替换原数据。\n",
    "\n",
    "代码："
   ]
  },
  {
   "cell_type": "code",
   "execution_count": 13,
   "metadata": {},
   "outputs": [
    {
     "data": {
      "text/plain": [
       "tensor(0.)"
      ]
     },
     "execution_count": 13,
     "metadata": {},
     "output_type": "execute_result"
    }
   ],
   "source": [
    "x.grad.data.zero_()"
   ]
  },
  {
   "cell_type": "markdown",
   "metadata": {},
   "source": [
    "**tensor.data()**\n",
    "\n",
    "如果修改tensor的值，但不想被autograd记录，可以采用tensor.data()对数据进行操作。\n",
    "\n",
    "> tensor.data*=100，则原数据x直接被修改。"
   ]
  },
  {
   "cell_type": "code",
   "execution_count": 21,
   "metadata": {},
   "outputs": [
    {
     "name": "stdout",
     "output_type": "stream",
     "text": [
      "x:\n",
      " tensor([[1., 1., 1.],\n",
      "        [1., 1., 1.],\n",
      "        [1., 1., 1.]], requires_grad=True)\n",
      "x.data\n",
      " tensor([[1., 1., 1.],\n",
      "        [1., 1., 1.],\n",
      "        [1., 1., 1.]])\n",
      "x.data.requires_grad\n",
      " False\n"
     ]
    }
   ],
   "source": [
    "x=torch.ones(3,3,requires_grad=True)\n",
    "\n",
    "print(\"x:\\n\",x)\n",
    "print(\"x.data\\n\",x.data)\n",
    "print(\"x.data.requires_grad\\n\",x.data.requires_grad)"
   ]
  },
  {
   "cell_type": "code",
   "execution_count": 22,
   "metadata": {},
   "outputs": [
    {
     "name": "stdout",
     "output_type": "stream",
     "text": [
      "tensor([[100., 100., 100.],\n",
      "        [100., 100., 100.],\n",
      "        [100., 100., 100.]])\n"
     ]
    }
   ],
   "source": [
    "y=2*x\n",
    "\n",
    "x.data*=100 #不会记录在计算图中\n",
    "print(x.data)"
   ]
  },
  {
   "cell_type": "code",
   "execution_count": 38,
   "metadata": {},
   "outputs": [
    {
     "name": "stdout",
     "output_type": "stream",
     "text": [
      "tensor([[100., 100., 100.],\n",
      "        [100., 100., 100.],\n",
      "        [100., 100., 100.]], requires_grad=True)\n",
      "tensor([[0.5563, 0.1398, 0.1841],\n",
      "        [0.0857, 0.0010, 0.6584],\n",
      "        [0.0203, 0.1892, 0.1654]])\n"
     ]
    }
   ],
   "source": [
    "weights=torch.rand(3,3)\n",
    "\n",
    "# norm\n",
    "weights/=weights.sum()\n",
    "\n",
    "\n",
    "y.backward(weights)\n",
    "print(x)\n",
    "print(x.grad)"
   ]
  },
  {
   "cell_type": "code",
   "execution_count": null,
   "metadata": {},
   "outputs": [],
   "source": []
  },
  {
   "cell_type": "code",
   "execution_count": null,
   "metadata": {},
   "outputs": [],
   "source": []
  },
  {
   "cell_type": "code",
   "execution_count": null,
   "metadata": {},
   "outputs": [],
   "source": []
  }
 ],
 "metadata": {
  "kernelspec": {
   "display_name": "Python [conda env:pytorch]",
   "language": "python",
   "name": "conda-env-pytorch-py"
  },
  "language_info": {
   "codemirror_mode": {
    "name": "ipython",
    "version": 3
   },
   "file_extension": ".py",
   "mimetype": "text/x-python",
   "name": "python",
   "nbconvert_exporter": "python",
   "pygments_lexer": "ipython3",
   "version": "3.8.8"
  }
 },
 "nbformat": 4,
 "nbformat_minor": 4
}
