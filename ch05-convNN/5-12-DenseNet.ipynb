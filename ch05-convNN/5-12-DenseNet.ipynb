{
 "metadata": {
  "language_info": {
   "codemirror_mode": {
    "name": "ipython",
    "version": 3
   },
   "file_extension": ".py",
   "mimetype": "text/x-python",
   "name": "python",
   "nbconvert_exporter": "python",
   "pygments_lexer": "ipython3",
   "version": "3.8.8-final"
  },
  "orig_nbformat": 2,
  "kernelspec": {
   "name": "python3",
   "display_name": "Python 3.8.8 64-bit ('pytorch': conda)",
   "metadata": {
    "interpreter": {
     "hash": "acd847c392487aabfa03d14b5dc5b2ae233417a28e2d9e43c03b69bccff2848e"
    }
   }
  }
 },
 "nbformat": 4,
 "nbformat_minor": 2,
 "cells": [
  {
   "source": [
    "# 5.12 DenseNet\n",
    "\n",
    "\n",
    "相比于RenseNet将输出相加，DenseNet将输出在通道维上连结，所以又叫做稠密连接。\n",
    "\n",
    "DenseNet主要模块使稠密块和过度层：\n",
    "\n",
    "+ 稠密块定义了网络输入和输出的连结\n",
    "\n",
    "+ 过渡层用来控制通道数，使之不过大。\n",
    "\n",
    "DenseNet网络的结构图如下：\n",
    "<img src=\"https://gitee.com/changyv/md-pic/raw/master/20210318163756.png\" alt=\"image-20210318163555548\" style=\"zoom: 75%;\" />\n",
    "\n",
    "定义稠密快："
   ],
   "cell_type": "markdown",
   "metadata": {}
  },
  {
   "cell_type": "code",
   "execution_count": 1,
   "metadata": {},
   "outputs": [],
   "source": [
    "import time \n",
    "import torch \n",
    "from torch import nn,optim \n",
    "import torch.nn.functional as F \n",
    "\n",
    "import sys \n",
    "sys.path.append('..')\n",
    "import d2l_pytorch as d2l \n",
    "\n",
    "device=torch.device('cuda' if torch.cuda.is_available() else 'cpu')"
   ]
  },
  {
   "cell_type": "code",
   "execution_count": 5,
   "metadata": {},
   "outputs": [],
   "source": [
    "# 定义卷积层，构成稠密块\n",
    "def conv_block(in_channels,out_channels):\n",
    "    blk=nn.Sequential(\n",
    "        nn.BatchNorm2d(in_channels),\n",
    "        nn.ReLU(),\n",
    "        nn.Conv2d(in_channels,out_channels,kernel_size=3,padding=1)\n",
    "    )\n",
    "    return blk"
   ]
  },
  {
   "cell_type": "code",
   "execution_count": 6,
   "metadata": {},
   "outputs": [],
   "source": [
    "# 定义稠密快\n",
    "class dense_block(nn.Module):\n",
    "    def __init__(self,num_convs,in_channels,out_channels):\n",
    "        super(dense_block,self).__init__()\n",
    "        net=[]\n",
    "        for i in range(num_convs):\n",
    "            in_c=in_channels + i * out_channels\n",
    "            net.append(conv_block(in_c,out_channels))\n",
    "        # 网络\n",
    "        self.net=nn.ModuleList(net)\n",
    "        self.out_channels=in_channels +num_convs*out_channels\n",
    "\n",
    "    def forward(self,x):\n",
    "        for blk in self.net:\n",
    "            y=blk(x)\n",
    "            # 在通道上进行连结\n",
    "            x=torch.cat((x,y),dim=1)\n",
    "        return x"
   ]
  },
  {
   "cell_type": "code",
   "execution_count": 7,
   "metadata": {},
   "outputs": [
    {
     "output_type": "execute_result",
     "data": {
      "text/plain": [
       "torch.Size([4, 23, 8, 8])"
      ]
     },
     "metadata": {},
     "execution_count": 7
    }
   ],
   "source": [
    "# test\n",
    "blk=dense_block(2,3,10)\n",
    "\n",
    "x=torch.rand(4,3,8,8)\n",
    "\n",
    "y=blk(x)\n",
    "y.shape"
   ]
  },
  {
   "source": [
    "过渡层\n",
    "\n",
    "由于每个稠密块都会带来通道数的增加，使用过多则会带来过于复杂的模型，\n",
    "\n",
    "过渡层用来控制模型复杂度。它通过1×1卷积层来减小通道数，并使用步幅为2的平均池化层减半高和宽，从而进一步降低模型复杂度。\n"
   ],
   "cell_type": "markdown",
   "metadata": {}
  },
  {
   "cell_type": "code",
   "execution_count": 10,
   "metadata": {},
   "outputs": [],
   "source": [
    "def transition_block(in_channels,out_channels):\n",
    "    blk=nn.Sequential(\n",
    "        nn.BatchNorm2d(in_channels),\n",
    "        nn.ReLU(),\n",
    "        nn.Conv2d(in_channels,out_channels,kernel_size=1),\n",
    "        nn.AvgPool2d(kernel_size=2,stride=2)\n",
    "    )\n",
    "    return blk"
   ]
  },
  {
   "cell_type": "code",
   "execution_count": 11,
   "metadata": {},
   "outputs": [
    {
     "output_type": "execute_result",
     "data": {
      "text/plain": [
       "torch.Size([4, 10, 4, 4])"
      ]
     },
     "metadata": {},
     "execution_count": 11
    }
   ],
   "source": [
    "# test\n",
    "# 将上述例子中的通道数23减为10\n",
    "\n",
    "blk=transition_block(23,10)\n",
    "\n",
    "blk(y).shape"
   ]
  },
  {
   "source": [
    "## 构建DenseNet模型\n"
   ],
   "cell_type": "markdown",
   "metadata": {}
  }
 ]
}